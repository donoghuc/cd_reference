{
 "cells": [
  {
   "cell_type": "markdown",
   "metadata": {},
   "source": [
    "# Max value for unique values in column\n",
    "- I found the translation between pandas and SQL somewhat non-intuitive for aggregation of data where I want to group by a specific column and keep ALL rows based on a condition (max/min) in another column\n",
    "- In folowing example I want the maximum value in column_3 for unique values in column_2 while retaining value from column_1 \n",
    "- Compare pandas vs SQL pattern"
   ]
  },
  {
   "cell_type": "code",
   "execution_count": 1,
   "metadata": {},
   "outputs": [],
   "source": [
    "import pandas as pd"
   ]
  },
  {
   "cell_type": "code",
   "execution_count": 2,
   "metadata": {},
   "outputs": [
    {
     "data": {
      "text/html": [
       "<div>\n",
       "<style scoped>\n",
       "    .dataframe tbody tr th:only-of-type {\n",
       "        vertical-align: middle;\n",
       "    }\n",
       "\n",
       "    .dataframe tbody tr th {\n",
       "        vertical-align: top;\n",
       "    }\n",
       "\n",
       "    .dataframe thead th {\n",
       "        text-align: right;\n",
       "    }\n",
       "</style>\n",
       "<table border=\"1\" class=\"dataframe\">\n",
       "  <thead>\n",
       "    <tr style=\"text-align: right;\">\n",
       "      <th></th>\n",
       "      <th>col_1</th>\n",
       "      <th>col_2</th>\n",
       "      <th>col_3</th>\n",
       "    </tr>\n",
       "  </thead>\n",
       "  <tbody>\n",
       "    <tr>\n",
       "      <th>0</th>\n",
       "      <td>1</td>\n",
       "      <td>a</td>\n",
       "      <td>3</td>\n",
       "    </tr>\n",
       "    <tr>\n",
       "      <th>1</th>\n",
       "      <td>2</td>\n",
       "      <td>a</td>\n",
       "      <td>4</td>\n",
       "    </tr>\n",
       "    <tr>\n",
       "      <th>2</th>\n",
       "      <td>3</td>\n",
       "      <td>b</td>\n",
       "      <td>2</td>\n",
       "    </tr>\n",
       "    <tr>\n",
       "      <th>3</th>\n",
       "      <td>4</td>\n",
       "      <td>b</td>\n",
       "      <td>1</td>\n",
       "    </tr>\n",
       "    <tr>\n",
       "      <th>4</th>\n",
       "      <td>5</td>\n",
       "      <td>c</td>\n",
       "      <td>0</td>\n",
       "    </tr>\n",
       "  </tbody>\n",
       "</table>\n",
       "</div>"
      ],
      "text/plain": [
       "   col_1 col_2  col_3\n",
       "0      1     a      3\n",
       "1      2     a      4\n",
       "2      3     b      2\n",
       "3      4     b      1\n",
       "4      5     c      0"
      ]
     },
     "execution_count": 2,
     "metadata": {},
     "output_type": "execute_result"
    }
   ],
   "source": [
    "example = pd.DataFrame(dict(col_1=[1,2,3,4,5], col_2=['a', 'a', 'b', 'b', 'c'], col_3=[3,4,2,1,0]))\n",
    "example"
   ]
  },
  {
   "cell_type": "markdown",
   "metadata": {},
   "source": [
    "### Pandas Pattern\n",
    "- sort the dataframe by col_3 (descending)\n",
    "- now drop duplicates in col_2 keeping the \"first\" value\n",
    "- the \"first\" value will be the max because the dataframe was sorted in preceeding chained method"
   ]
  },
  {
   "cell_type": "code",
   "execution_count": 3,
   "metadata": {},
   "outputs": [
    {
     "data": {
      "text/html": [
       "<div>\n",
       "<style scoped>\n",
       "    .dataframe tbody tr th:only-of-type {\n",
       "        vertical-align: middle;\n",
       "    }\n",
       "\n",
       "    .dataframe tbody tr th {\n",
       "        vertical-align: top;\n",
       "    }\n",
       "\n",
       "    .dataframe thead th {\n",
       "        text-align: right;\n",
       "    }\n",
       "</style>\n",
       "<table border=\"1\" class=\"dataframe\">\n",
       "  <thead>\n",
       "    <tr style=\"text-align: right;\">\n",
       "      <th></th>\n",
       "      <th>col_1</th>\n",
       "      <th>col_2</th>\n",
       "      <th>col_3</th>\n",
       "    </tr>\n",
       "  </thead>\n",
       "  <tbody>\n",
       "    <tr>\n",
       "      <th>1</th>\n",
       "      <td>2</td>\n",
       "      <td>a</td>\n",
       "      <td>4</td>\n",
       "    </tr>\n",
       "    <tr>\n",
       "      <th>2</th>\n",
       "      <td>3</td>\n",
       "      <td>b</td>\n",
       "      <td>2</td>\n",
       "    </tr>\n",
       "    <tr>\n",
       "      <th>4</th>\n",
       "      <td>5</td>\n",
       "      <td>c</td>\n",
       "      <td>0</td>\n",
       "    </tr>\n",
       "  </tbody>\n",
       "</table>\n",
       "</div>"
      ],
      "text/plain": [
       "   col_1 col_2  col_3\n",
       "1      2     a      4\n",
       "2      3     b      2\n",
       "4      5     c      0"
      ]
     },
     "execution_count": 3,
     "metadata": {},
     "output_type": "execute_result"
    }
   ],
   "source": [
    "example.sort_values('col_3', ascending=False).drop_duplicates('col_2', keep='first')"
   ]
  },
  {
   "cell_type": "markdown",
   "metadata": {},
   "source": [
    "### SQL Pattern Oracle\n",
    "- DB TESTED ON: Oracle 11g R2\n",
    "- Note that temp_table is defined just to avoid having to create a real table\n",
    "- Also note that aggregated table is stored using WITH syntax so that it can be separated from the query that orders it by col_3. Ordering by Col_3 is not a necessary step for the computation rather it is done to make the output appear the same as the pandas output. \n",
    "\n",
    "```SQL\n",
    "\n",
    "WITH temp_table AS (\n",
    "SELECT 1 AS col_1, 'a' AS col_2 ,3 AS col_3 FROM DUAL\n",
    "UNION ALL\n",
    "SELECT 2 AS col_1, 'a' AS col_2, 4 AS col_3 FROM DUAL\n",
    "UNION ALL\n",
    "SELECT 3 AS col_1, 'b' AS col_2, 2 AS col_3 FROM DUAL\n",
    "UNION ALL\n",
    "SELECT 4 AS col_1, 'b' AS col_2, 1 AS col_3 FROM DUAL\n",
    "UNION ALL\n",
    "select 5 AS col_1, 'c' AS col_1, 0 AS col_3 FROM DUAL\n",
    "\n",
    "),\n",
    "\n",
    "aggregated AS (SELECT DISTINCT\n",
    "FIRST_VALUE(col_1) OVER (PARTITION BY col_2 ORDER BY col_3 DESC RANGE BETWEEN UNBOUNDED PRECEDING AND UNBOUNDED FOLLOWING) AS col_1,\n",
    "FIRST_VALUE(col_2) OVER (PARTITION BY col_2 ORDER BY col_3 DESC RANGE BETWEEN UNBOUNDED PRECEDING AND UNBOUNDED FOLLOWING) AS col_2,\n",
    "FIRST_VALUE(col_3) OVER (PARTITION BY col_2 ORDER BY col_3 DESC RANGE BETWEEN UNBOUNDED PRECEDING AND UNBOUNDED FOLLOWING) AS col_3\n",
    "FROM temp_table)\n",
    "\n",
    "SELECT * \n",
    "FROM aggregated\n",
    "ORDER BY col_3 DESC;\n",
    "```\n",
    "\n",
    "#### OUTPUT\n",
    "```\n",
    "| COL_1 | COL_2 | COL_3 |\n",
    "|-------|-------|-------|\n",
    "|     2 |     a |     4 |\n",
    "|     3 |     b |     2 |\n",
    "|     5 |     c |     0 |\n",
    "```"
   ]
  },
  {
   "cell_type": "code",
   "execution_count": null,
   "metadata": {},
   "outputs": [],
   "source": []
  }
 ],
 "metadata": {
  "kernelspec": {
   "display_name": "Python 3",
   "language": "python",
   "name": "python3"
  },
  "language_info": {
   "codemirror_mode": {
    "name": "ipython",
    "version": 3
   },
   "file_extension": ".py",
   "mimetype": "text/x-python",
   "name": "python",
   "nbconvert_exporter": "python",
   "pygments_lexer": "ipython3",
   "version": "3.6.3"
  }
 },
 "nbformat": 4,
 "nbformat_minor": 2
}
